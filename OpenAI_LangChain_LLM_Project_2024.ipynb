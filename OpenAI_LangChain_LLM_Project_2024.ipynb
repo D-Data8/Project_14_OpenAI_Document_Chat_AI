{
  "cells": [
    {
      "cell_type": "markdown",
      "metadata": {
        "id": "xnSTw4AYEHW1"
      },
      "source": [
        "# **An OpenAI Document Querying AI Tool:**\n",
        "## **Utilising OpenAI Large Lanaguage Models (LLMs), Chroma, OpenAI API, Langchain and Streamlit.**\n",
        "\n",
        "This notebook will detail a Python project which will use OpenAI Large Language Models (LLMs) to allow users to receive answers to their questions on a long PDF document, via an LLM AI tool. This will be achieved through the use of Langchain, Chroma Vector Store, the OpenAI API and Streamlit libraries.\n",
        "The document that will be used for this project will be a 25 page bicycle insurance policy from cycleguard.  \n",
        "\n",
        "This project has been implemented within a Google Colab cloud notebook environment, which should allow others to use this code without the need for locally downloading and computing. Running this notebook is possible with only the CPU enabled."
      ]
    },
    {
      "cell_type": "markdown",
      "metadata": {
        "id": "Z6n9lXlvK5wZ"
      },
      "source": [
        "# **1. Import Required Libraries**"
      ]
    },
    {
      "cell_type": "code",
      "execution_count": null,
      "metadata": {
        "id": "LIWpW7j6EN3U"
      },
      "outputs": [],
      "source": [
        "!pip install langchain langchain-openai streamlit langchain-community pypdf chromadb"
      ]
    },
    {
      "cell_type": "code",
      "execution_count": null,
      "metadata": {
        "id": "CAq8si_Q9eld"
      },
      "outputs": [],
      "source": [
        "import os\n",
        "import time\n",
        "import langchain\n",
        "from langchain_openai import OpenAI, OpenAIEmbeddings\n",
        "from langchain.vectorstores import Chroma\n",
        "from langchain.document_loaders import PyPDFLoader\n",
        "from langchain.chains import RetrievalQA\n",
        "import urllib\n",
        "!npm install localtunnel"
      ]
    },
    {
      "cell_type": "markdown",
      "metadata": {
        "id": "Hb2woesyTkXI"
      },
      "source": [
        "# **2. Text Embedding Model & Chroma Vector Database**\n",
        "The text embedding model is used to process the input PDF text document so that sentences and words can be converted into a series of numerical vectors that can be stored in the vector database. Chroma is the open source vector database that will be used for this project (https://www.trychroma.com/).\n",
        "\n",
        "User queries will also be embedded using the text embedding model, which allows the embedding database to be searched for closely related embeddings/vectors. This is the implementation of a semantic search through the PDF document, rather than a key word search, which should provide improved results.\n",
        "\n",
        "The OpenAI text embedding model that will used is the model called \"text-embedding-ada-002\", which can be found at this link: https://platform.openai.com/docs/models/embeddings. This model will be used due to its low cost and suitability to prototyping NLP applications."
      ]
    },
    {
      "cell_type": "markdown",
      "metadata": {
        "id": "-3JyYERofm6G"
      },
      "source": [
        "## **2.1 Load the PDF Document**"
      ]
    },
    {
      "cell_type": "code",
      "execution_count": 5,
      "metadata": {
        "id": "ZHxcTO9v_kZ_"
      },
      "outputs": [],
      "source": [
        "# Set your OpenAI API key to allow access to models:\n",
        "os.environ['OPENAI_API_KEY'] = 'your_private_openAI_API_key'# Required for the text embedding model and LLM model\n",
        "\n",
        "text_embedding_model = OpenAIEmbeddings(model='text-embedding-ada-002') # Use the OpenAI text embedding model\n",
        "\n",
        "# Load the PDF document:\n",
        "input_document = PyPDFLoader('cycleGuard Policy Wording 2021-03.pdf') # Ensure this PDF document file has already been loaded into Colab working directory\n",
        "\n",
        "# Split pages from the input PDF\n",
        "pdf_pages = input_document.load_and_split()"
      ]
    },
    {
      "cell_type": "markdown",
      "metadata": {
        "id": "51SjC4_fg-xw"
      },
      "source": [
        "## **2.2 Embed the PDF Document with Chroma Vector Database**\n",
        "The input PDF document will be embedded in the next cell using the OpenAI text embedding model and the Chroma database."
      ]
    },
    {
      "cell_type": "code",
      "execution_count": 6,
      "metadata": {
        "colab": {
          "base_uri": "https://localhost:8080/"
        },
        "id": "6pmTUPitqVZR",
        "outputId": "2e28343d-92e3-4068-d915-a74c9946b2da"
      },
      "outputs": [
        {
          "output_type": "stream",
          "name": "stdout",
          "text": [
            "Time to create vector store [mins]: 0.01\n"
          ]
        }
      ],
      "source": [
        "# Covert the uploaded document to vector format and print out the time taken:\n",
        "t1 = time.time()\n",
        "\n",
        "# The next cell will consume ~$0.001 OpenAI account cedit [12,008 tokens]\n",
        "vector_store = Chroma.from_documents(pdf_pages, text_embedding_model, collection_name='cycle_insurance')\n",
        "\n",
        "t2 = time.time()\n",
        "time_taken = t2 - t1\n",
        "print(\"Time to create vector store [mins]:\", round(time_taken/60, 2)) # Takes ~2s with CPU"
      ]
    },
    {
      "cell_type": "markdown",
      "metadata": {
        "id": "MNt_0NmYhlec"
      },
      "source": [
        "## **2.3 Query the Chroma Vector Database**\n",
        "Test queries will be run to verify that the PDF document has been embedded successfully. Text queries are automatically converted into an embedding with Chroma, so that the database can be interrogated."
      ]
    },
    {
      "cell_type": "code",
      "execution_count": 7,
      "metadata": {
        "colab": {
          "base_uri": "https://localhost:8080/"
        },
        "id": "BsqAZVX71CdK",
        "outputId": "de26afe6-61b2-4fb2-921e-633709ac4b8d"
      },
      "outputs": [
        {
          "output_type": "stream",
          "name": "stdout",
          "text": [
            "It is our intention to give you  the best possible service however if you  do have any cause for complaint about this \n",
            "insurance or the handling of any claim you  should follow the complaints procedure below:\n",
            "Policy Sales\n",
            "If your complaint is about the sale of your policy, please email: complaints@Guardcover.co.uk \n",
            "call: 0333 004 3444\n",
            "or write to:  \n",
            "cycleGuard, Thistle Insurance Services Limited, Southgate House, Southgate Street, Gloucester, GL1 1UB\n",
            "Policy Claims\n",
            "If your complaint is about a claim, please email: claims@Guardcover.co.uk \n",
            "call: 0333 004 3444\n",
            "or write to:  \n",
            "Claims Department, Thistle Insurance Services Limited, Southgate House, Southgate Street, Gloucester, GL1 1UB\n",
            "In all correspondence please state that your insurance is underwritten by UK General Insurance and quote your unique \n",
            "policy number from your policy schedule. \n",
            "Following our complaints procedure does not affect your  legal rights as a consumer. For further information you  can \n",
            "contact the Citizens Advice Bureau or Trading Standards.\n",
            "Financial Ombudsman Service\n",
            "If we  have not completed our  investigations into your  complaint within 8 weeks of receiving your  complaint or if you  are \n",
            "not happy with our  Final Response, you  may ask the Financial Ombudsman Service (FOS) to look at your  complaint. If \n",
            "you decide to contact them, you should do so within 6 months of receiving our Final Response Letter.\n",
            "For more information regarding the scope of the Financial Ombudsman Service please refer to  \n",
            "www.financial-ombudsman.org.uk \n",
            "The Financial Ombudsman Service,  \n",
            "Exchange Tower, London E14 9SR  \n",
            "Tel: 0800 023 4567 \n",
            "Get in touch online: https://www.financial-ombudsman.org.uk/contact-us/complain-online \n",
            "24WHAT TO DO IF YOU \n",
            "HA VE A COMPLAINT\n"
          ]
        }
      ],
      "source": [
        "question1 = \"What is the name of the insuance company?\"\n",
        "store_similarity_1 = vector_store.similarity_search(question1)\n",
        "print(store_similarity_1[0].page_content) # The most relevant result to the query is at index 0"
      ]
    },
    {
      "cell_type": "markdown",
      "metadata": {
        "id": "TpyQ5ExZn9Zw"
      },
      "source": [
        "The output from the first query is verbose, but it does contain the pertinent information from the document relating to Thistle Insurance Services."
      ]
    },
    {
      "cell_type": "code",
      "execution_count": 8,
      "metadata": {
        "colab": {
          "base_uri": "https://localhost:8080/"
        },
        "id": "vSOXuruelA40",
        "outputId": "725b3f70-92e1-4f39-961f-d236dce1651c"
      },
      "outputs": [
        {
          "output_type": "stream",
          "name": "stdout",
          "text": [
            "Details of Y our Excess\n",
            "All claims for insured items are subject to the following excess  unless otherwise stated on your  Insurance Schedule:\n",
            "Claim amount Excess payable\n",
            "£0 - £1,499 £50\n",
            "£1,500 - £2,999 £100\n",
            "£3,000 - £4,999 £150\n",
            "£5,000 or above £200\n",
            "Public Liability claims are subject to a £500 excess for all third-party property damage. \n",
            "7IMPORTANT \n",
            "INFORMATION\n"
          ]
        }
      ],
      "source": [
        "question2 = \"What are the excess amounts?\"\n",
        "store_similarity_2 = vector_store.similarity_search(question2)\n",
        "print(store_similarity_2[0].page_content)"
      ]
    },
    {
      "cell_type": "markdown",
      "metadata": {
        "id": "aHdEcZVIoFgJ"
      },
      "source": [
        "The second query has also returned the key information from the document relating to excess amounts."
      ]
    },
    {
      "cell_type": "markdown",
      "metadata": {
        "id": "HGCzDqxch2yK"
      },
      "source": [
        "## **3. Create an AI Tool Using Langchain**\n",
        "Next, an LLM will be used to summarise the output from the Chroma vector store, which will then provide concise answers to user queries relating to the PDF document. This will be achieved through the use of a langchain retrieval chain, which chains together the OpenAI text embedding model, vector store and OpenAI LLM.\n",
        "\n",
        "The OpenAI LLM that will be used for this part of the project is called \"gpt-3.5-turbo-instruct\", which can be viewed at this link: https://platform.openai.com/docs/models/gpt-3-5-turbo\n",
        "\n",
        "The purpose of this LLM is to concisely summarise the returned information from the vector embedding database. This model was chosen as it is the default OpenAI GPT model, while also being fast and inexpensive model that is suited to basic tasks.\n"
      ]
    },
    {
      "cell_type": "code",
      "execution_count": 20,
      "metadata": {
        "id": "QRs1aarwBV3j"
      },
      "outputs": [],
      "source": [
        "llm_openAI = OpenAI(model='gpt-3.5-turbo-instruct', temperature=0.2) # This uses the GPT-3.5-turbo-instruct model\n",
        "\n",
        "retriever = vector_store.as_retriever(search_kwargs={\"k\": 3})\n",
        "\n",
        "# Create the langchain:\n",
        "chain_qa = RetrievalQA.from_chain_type(\n",
        "    llm=llm_openAI,\n",
        "    chain_type=\"stuff\",\n",
        "    retriever=retriever,\n",
        "    input_key = 'question')"
      ]
    },
    {
      "cell_type": "markdown",
      "source": [
        "Each query that is passed through the chain will consume approximately $0.002 OpenAI account credit."
      ],
      "metadata": {
        "id": "xlck7c77DjzW"
      }
    },
    {
      "cell_type": "code",
      "execution_count": 21,
      "metadata": {
        "colab": {
          "base_uri": "https://localhost:8080/"
        },
        "id": "VuiXNMd55rbQ",
        "outputId": "2419cd2c-9daa-4637-97ff-28124a4d72d6"
      },
      "outputs": [
        {
          "output_type": "execute_result",
          "data": {
            "text/plain": [
              "{'question': 'What are the excess amounts?',\n",
              " 'result': ' The excess amounts are £50 for claims up to £1,499, £100 for claims between £1,500 and £2,999, £150 for claims between £3,000 and £4,999, and £200 for claims of £5,000 or above. Public Liability claims have a £500 excess for third-party property damage.'}"
            ]
          },
          "metadata": {},
          "execution_count": 21
        }
      ],
      "source": [
        "query1 = 'What are the excess amounts?'\n",
        "chain_qa.invoke({\"question\": query1})"
      ]
    },
    {
      "cell_type": "code",
      "execution_count": 22,
      "metadata": {
        "colab": {
          "base_uri": "https://localhost:8080/"
        },
        "id": "w2JIGQ_184wQ",
        "outputId": "b197d6d1-ddf2-42cb-8e97-33077e1581bb"
      },
      "outputs": [
        {
          "output_type": "execute_result",
          "data": {
            "text/plain": [
              "{'question': 'Are there any excess amounts for public liability claims?',\n",
              " 'result': ' Yes, there is a £500 excess for all third-party property damage for public liability claims.'}"
            ]
          },
          "metadata": {},
          "execution_count": 22
        }
      ],
      "source": [
        "query1b = 'Are there any excess amounts for public liability claims?'\n",
        "chain_qa.invoke({\"question\": query1b})"
      ]
    },
    {
      "cell_type": "code",
      "execution_count": 23,
      "metadata": {
        "colab": {
          "base_uri": "https://localhost:8080/"
        },
        "id": "Zw6CRtMhBV0K",
        "outputId": "e9c80e44-7087-44ff-c718-599b0940fd00"
      },
      "outputs": [
        {
          "output_type": "execute_result",
          "data": {
            "text/plain": [
              "{'question': 'What is the name of the insurance company?',\n",
              " 'result': ' The insurance company is Thistle Insurance Services Limited.'}"
            ]
          },
          "metadata": {},
          "execution_count": 23
        }
      ],
      "source": [
        "query2 = 'What is the name of the insurance company?'\n",
        "chain_qa.invoke({\"question\": query2})"
      ]
    },
    {
      "cell_type": "code",
      "execution_count": 24,
      "metadata": {
        "colab": {
          "base_uri": "https://localhost:8080/"
        },
        "id": "dEMTYcDi59fF",
        "outputId": "41747e0a-70b5-4966-d937-4d36cf899b19"
      },
      "outputs": [
        {
          "output_type": "execute_result",
          "data": {
            "text/plain": [
              "{'question': 'What are all of the circumstances where the insurance not valid?',\n",
              " 'result': ' The insurance is not valid in the following circumstances: \\n1. Any loss or damage that occurred prior to the commencement of the insurance.\\n2. Claims or incidents caused by illegal or criminal acts, being under the influence of drugs or alcohol, or intentional self-harm.\\n3. Claims caused by pressure waves from supersonic aircraft or devices.\\n4. Claims caused by riot, civil commotion, or strikes.\\n5. Fraudulent acts by the insured party.\\n6. If there is another insurance policy covering the same loss, damage, or liability.\\n7. Failure to take reasonable care to prevent accidental damage, theft, or comply with statutory obligations.\\n8. If the insured value chosen is less than the full replacement value of the insured items.\\n9. Any costs not approved by the insurance company.\\n10. More than 3 claims or an aggregate total of £25,000 in any one period of insurance.\\n11. Accidents or incidents caused by road rage, unless directly resulting from the use of a bicycle.\\n12. Claims for clothing and personal effects already covered under the insured cycle accessories.\\n13. Claims for death or personal injury benefit if already submitted under the Personal Accident cover.\\n14. Accidents while participating in a competitive cycling event, unless the Race & Compete'}"
            ]
          },
          "metadata": {},
          "execution_count": 24
        }
      ],
      "source": [
        "query3 = 'What are all of the circumstances where the insurance not valid?'\n",
        "chain_qa.invoke({\"question\": query3})"
      ]
    },
    {
      "cell_type": "markdown",
      "metadata": {
        "id": "ClLehV5rbyfO"
      },
      "source": [
        "## **4. Streamlit Application**\n",
        "The langchain retrieval chain will be used within a streamlit application, which will provide a much more professional user interface for the document querying AI tool.\n",
        "\n"
      ]
    },
    {
      "cell_type": "code",
      "execution_count": 30,
      "metadata": {
        "colab": {
          "base_uri": "https://localhost:8080/"
        },
        "id": "Icu-K9H9gCZ9",
        "outputId": "319fc01c-6fa9-4864-fd72-6aafd6747e74"
      },
      "outputs": [
        {
          "output_type": "stream",
          "name": "stdout",
          "text": [
            "Overwriting streamlit_app.py\n"
          ]
        }
      ],
      "source": [
        "%%writefile streamlit_app.py\n",
        "\n",
        "import streamlit as st\n",
        "import os\n",
        "from langchain.vectorstores import Chroma\n",
        "from langchain.document_loaders import PyPDFLoader\n",
        "from langchain_openai import OpenAI, OpenAIEmbeddings\n",
        "from langchain.chains import RetrievalQA\n",
        "\n",
        "# Set OpenAI private API Key:\n",
        "os.environ['OPENAI_API_KEY'] = 'your_private_OpenAI_API_key'\n",
        "\n",
        "# OpenAI text embedding model:\n",
        "text_embedding_model = OpenAIEmbeddings(model='text-embedding-ada-002')\n",
        "\n",
        "# Load the PDF document:\n",
        "input_document = PyPDFLoader('cycleGuard Policy Wording 2021-03.pdf') # Ensure this PDF document file has already been loaded into Colab working directory!\n",
        "# Split pages from the PDF\n",
        "pages = input_document.load_and_split()\n",
        "# Load documents into chroma embedding database:\n",
        "vector_store = Chroma.from_documents(pages, text_embedding_model, collection_name='cycle_insurance')\n",
        "\n",
        "# OpenAI LLM\n",
        "LLM = OpenAI(name='gpt-3.5-turbo-instruct', temperature=0.2)\n",
        "retriever = vector_store.as_retriever(search_kwargs={\"k\": 3})\n",
        "retrieval_QA_chain = RetrievalQA.from_chain_type(\n",
        "    llm=LLM,\n",
        "    chain_type=\"stuff\",\n",
        "    retriever=retriever,\n",
        "    input_key = 'question')\n",
        "\n",
        "#-----------------Streamlit App Functionality----------------------#\n",
        "st.title('Using OpenAI LLMs to Answer Queries on an Insurance Document') # App title\n",
        "user_input = st.text_input('Enter your query here:') # User input box\n",
        "if user_input: # If user enters a query via the app interface, pass the query to OpenAI LLM\n",
        "    openAI_response = retrieval_QA_chain.invoke({\"question\": user_input})\n",
        "    st.write(openAI_response[\"result\"]) # Display the LLM response\n"
      ]
    },
    {
      "cell_type": "markdown",
      "source": [
        "The next cell contains the code to run the streamlit app via a hyperlink that will be displayed in the colab notebook. Click the url and then enter the password on that page to reach the streamlit app."
      ],
      "metadata": {
        "id": "yE8og8zQ2wDh"
      }
    },
    {
      "cell_type": "code",
      "execution_count": null,
      "metadata": {
        "colab": {
          "base_uri": "https://localhost:8080/"
        },
        "id": "_hx4RFwmfMqt",
        "outputId": "52613bc1-ee5b-4c60-b650-b93c79cfbc1b"
      },
      "outputs": [
        {
          "output_type": "stream",
          "name": "stdout",
          "text": [
            "Password/Enpoint IP for localtunnel is: 35.247.123.112\n",
            "35.247.123.112\n",
            "\u001b[K\u001b[?25hnpx: installed 22 in 2.575s\n",
            "your url is: https://busy-pigs-turn.loca.lt\n"
          ]
        }
      ],
      "source": [
        "print(\"Password/Enpoint IP for localtunnel is:\", urllib.request.urlopen('https://ipv4.icanhazip.com').read().decode('utf8').strip(\"\\n\"))\n",
        "!streamlit run streamlit_app.py &>/content/logs.txt & npx localtunnel --port 8501 & curl ipv4.icanhazip.com"
      ]
    },
    {
      "cell_type": "markdown",
      "metadata": {
        "id": "ibL7aZUpMkCC"
      },
      "source": [
        "# **5. Conclusion**\n",
        "This notebook has shown how a document querying AI tool can be created using OpenAI models that are accessed via OpenAI API calls. This has been further developed into a Streamlit app, which provides a clean user interface and removes the need for the user to execute Python code directly.\n",
        "For further work, an open source implementation of this project could be investigated.  "
      ]
    }
  ],
  "metadata": {
    "colab": {
      "provenance": []
    },
    "kernelspec": {
      "display_name": "Python 3",
      "name": "python3"
    },
    "language_info": {
      "name": "python"
    }
  },
  "nbformat": 4,
  "nbformat_minor": 0
}